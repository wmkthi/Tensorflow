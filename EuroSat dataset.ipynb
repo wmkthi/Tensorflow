{
 "cells": [
  {
   "cell_type": "code",
   "execution_count": 1,
   "metadata": {},
   "outputs": [],
   "source": [
    "#import packages\n",
    "import tensorflow as tf\n",
    "from tensorflow.keras.preprocessing.image import load_img, img_to_array\n",
    "from tensorflow.keras.models import Sequential, load_model\n",
    "from tensorflow.keras.layers import Dense, Flatten, Conv2D, MaxPooling2D\n",
    "from tensorflow.keras.callbacks import ModelCheckpoint, EarlyStopping\n",
    "import os\n",
    "import numpy as np\n",
    "import pandas as pd"
   ]
  },
  {
   "cell_type": "code",
   "execution_count": 2,
   "metadata": {},
   "outputs": [],
   "source": [
    "#import data\n",
    "def load_eurosat_data():\n",
    "    data_dir = 'data/'\n",
    "    x_train = np.load('x_train.npy')\n",
    "    y_train = np.load('y_train.npy')\n",
    "    x_test  = np.load('x_test.npy')\n",
    "    y_test  = np.load('y_test.npy')\n",
    "    return (x_train, y_train), (x_test, y_test)\n",
    "\n",
    "(x_train, y_train), (x_test, y_test) = load_eurosat_data()\n",
    "x_train  = x_train / 255.0\n",
    "x_test = x_test / 255.0"
   ]
  },
  {
   "cell_type": "code",
   "execution_count": 3,
   "metadata": {},
   "outputs": [
    {
     "name": "stdout",
     "output_type": "stream",
     "text": [
      "Model: \"sequential\"\n",
      "_________________________________________________________________\n",
      "Layer (type)                 Output Shape              Param #   \n",
      "=================================================================\n",
      "conv_1 (Conv2D)              (None, 64, 64, 16)        448       \n",
      "_________________________________________________________________\n",
      "conv_2 (Conv2D)              (None, 64, 64, 8)         1160      \n",
      "_________________________________________________________________\n",
      "pool_1 (MaxPooling2D)        (None, 8, 8, 8)           0         \n",
      "_________________________________________________________________\n",
      "flatten (Flatten)            (None, 512)               0         \n",
      "_________________________________________________________________\n",
      "dense_1 (Dense)              (None, 32)                16416     \n",
      "_________________________________________________________________\n",
      "dense_2 (Dense)              (None, 10)                330       \n",
      "=================================================================\n",
      "Total params: 18,354\n",
      "Trainable params: 18,354\n",
      "Non-trainable params: 0\n",
      "_________________________________________________________________\n"
     ]
    }
   ],
   "source": [
    "#build the model\n",
    "def get_new_model(input_shape):\n",
    "    \"\"\"\n",
    "    Builds a Sequential model compile with the Adam optimiser, sparse categorical cross\n",
    "    entropy loss function, and a single accuracy metric.\n",
    "    \"\"\"\n",
    "    model = Sequential([\n",
    "        Conv2D(filters = 16, kernel_size = 3, activation = 'relu', padding = 'SAME', name = 'conv_1', input_shape = input_shape),\n",
    "        Conv2D(filters = 8, kernel_size = 3, activation = 'relu', padding = 'SAME', name = 'conv_2'),\n",
    "        MaxPooling2D(pool_size = (8, 8), name = 'pool_1'),\n",
    "        Flatten(name = 'flatten'),\n",
    "        Dense(32, activation = 'relu', name = 'dense_1'),\n",
    "        Dense(10, activation = 'softmax', name = 'dense_2')\n",
    "    ])\n",
    "    \n",
    "    model.compile(optimizer = 'adam', loss = 'sparse_categorical_crossentropy', metrics = ['accuracy'])\n",
    "    return model\n",
    "\n",
    "model = get_new_model(x_train[0].shape) #create the model\n",
    "model.summary() #model summary"
   ]
  },
  {
   "cell_type": "code",
   "execution_count": 4,
   "metadata": {},
   "outputs": [
    {
     "name": "stdout",
     "output_type": "stream",
     "text": [
      "accuracy: 0.104\n"
     ]
    }
   ],
   "source": [
    "#evaluate the model's test accuracy\n",
    "def get_test_accuracy(model, x_test, y_test):\n",
    "    test_loss, test_acc = model.evaluate(x_test, y_test, verbose = 0)\n",
    "    print('accuracy: {acc:0.3f}'.format(acc = test_acc))\n",
    "    \n",
    "get_test_accuracy(model, x_test, y_test) #accuracy of the initial model"
   ]
  },
  {
   "cell_type": "code",
   "execution_count": 5,
   "metadata": {},
   "outputs": [],
   "source": [
    "#create checkpoints to save the model during training, with a criterion\n",
    "def get_checkpoint_every_epoch():\n",
    "    \"\"\"\n",
    "    Returns a ModelCheckpoint object that saves the weights only at the end of every epoch\n",
    "    \"\"\"\n",
    "    checkpoint_path = 'model_EuroSAT_checkpoints/checkpoint_{epoch:02d}'\n",
    "    checkpoint = ModelCheckpoint(filepath = checkpoint_path, save_weights_only = True,\n",
    "                                 save_freq = 'epoch', verbose = 1)\n",
    "    return checkpoint\n",
    "\n",
    "def get_checkpoint_best_only():\n",
    "    \"\"\"\n",
    "    Returns a ModelCheckpoit object that saves only the weights that generate highest validation (testing) accuracy\n",
    "    \"\"\"\n",
    "    checkpoint_path = 'model_EuroSAT_checkpoint_best/checkpoint'\n",
    "    checkpoint = ModelCheckpoint(filepath = checkpoint_path, save_weights_only = True,\n",
    "                                 save_best_only = True, save_freq = 'epoch', verbose = 1)\n",
    "    return checkpoint\n",
    "    \n",
    "def get_early_stopping():\n",
    "    \"\"\"\n",
    "    Return an EarlyStopping callback that stops training when the validation accuracy has not improved in the last 3 epochs\n",
    "    \"\"\"\n",
    "    earlystopping = EarlyStopping(monitor = 'val_accuracy', patience = 3, verbose = 1)\n",
    "    return earlystopping\n",
    "\n",
    "checkpoint_every_epoch = get_checkpoint_every_epoch()\n",
    "checkpoint_best_only = get_checkpoint_best_only()\n",
    "early_stopping = get_early_stopping()"
   ]
  },
  {
   "cell_type": "code",
   "execution_count": 6,
   "metadata": {
    "collapsed": true
   },
   "outputs": [
    {
     "name": "stdout",
     "output_type": "stream",
     "text": [
      "Epoch 1/50\n",
      "125/125 [==============================] - 15s 116ms/step - loss: 2.0291 - accuracy: 0.2177 - val_loss: 1.6131 - val_accuracy: 0.3600\n",
      "\n",
      "Epoch 00001: saving model to model_EuroSAT_checkpoints\\checkpoint_01\n",
      "\n",
      "Epoch 00001: val_loss improved from inf to 1.61308, saving model to model_EuroSAT_checkpoint_best\\checkpoint\n",
      "Epoch 2/50\n",
      "125/125 [==============================] - 13s 102ms/step - loss: 1.4643 - accuracy: 0.4250 - val_loss: 1.4312 - val_accuracy: 0.3970\n",
      "\n",
      "Epoch 00002: saving model to model_EuroSAT_checkpoints\\checkpoint_02\n",
      "\n",
      "Epoch 00002: val_loss improved from 1.61308 to 1.43115, saving model to model_EuroSAT_checkpoint_best\\checkpoint\n",
      "Epoch 3/50\n",
      "125/125 [==============================] - 13s 104ms/step - loss: 1.3335 - accuracy: 0.4715 - val_loss: 1.3398 - val_accuracy: 0.4600\n",
      "\n",
      "Epoch 00003: saving model to model_EuroSAT_checkpoints\\checkpoint_03\n",
      "\n",
      "Epoch 00003: val_loss improved from 1.43115 to 1.33983, saving model to model_EuroSAT_checkpoint_best\\checkpoint\n",
      "Epoch 4/50\n",
      "125/125 [==============================] - 13s 107ms/step - loss: 1.2709 - accuracy: 0.5145 - val_loss: 1.3070 - val_accuracy: 0.4800\n",
      "\n",
      "Epoch 00004: saving model to model_EuroSAT_checkpoints\\checkpoint_04\n",
      "\n",
      "Epoch 00004: val_loss improved from 1.33983 to 1.30699, saving model to model_EuroSAT_checkpoint_best\\checkpoint\n",
      "Epoch 5/50\n",
      "125/125 [==============================] - 21s 166ms/step - loss: 1.2244 - accuracy: 0.5293 - val_loss: 1.2475 - val_accuracy: 0.5080\n",
      "\n",
      "Epoch 00005: saving model to model_EuroSAT_checkpoints\\checkpoint_05\n",
      "\n",
      "Epoch 00005: val_loss improved from 1.30699 to 1.24749, saving model to model_EuroSAT_checkpoint_best\\checkpoint\n",
      "Epoch 6/50\n",
      "125/125 [==============================] - 24s 191ms/step - loss: 1.1737 - accuracy: 0.5592 - val_loss: 1.2218 - val_accuracy: 0.5100\n",
      "\n",
      "Epoch 00006: saving model to model_EuroSAT_checkpoints\\checkpoint_06\n",
      "\n",
      "Epoch 00006: val_loss improved from 1.24749 to 1.22180, saving model to model_EuroSAT_checkpoint_best\\checkpoint\n",
      "Epoch 7/50\n",
      "125/125 [==============================] - 20s 159ms/step - loss: 1.1768 - accuracy: 0.5462 - val_loss: 1.2356 - val_accuracy: 0.5180\n",
      "\n",
      "Epoch 00007: saving model to model_EuroSAT_checkpoints\\checkpoint_07\n",
      "\n",
      "Epoch 00007: val_loss did not improve from 1.22180\n",
      "Epoch 8/50\n",
      "125/125 [==============================] - 28s 216ms/step - loss: 1.1311 - accuracy: 0.5805 - val_loss: 1.2124 - val_accuracy: 0.5440\n",
      "\n",
      "Epoch 00008: saving model to model_EuroSAT_checkpoints\\checkpoint_08\n",
      "\n",
      "Epoch 00008: val_loss improved from 1.22180 to 1.21240, saving model to model_EuroSAT_checkpoint_best\\checkpoint\n",
      "Epoch 9/50\n",
      "125/125 [==============================] - 29s 234ms/step - loss: 1.0861 - accuracy: 0.5940 - val_loss: 1.1685 - val_accuracy: 0.5300\n",
      "\n",
      "Epoch 00009: saving model to model_EuroSAT_checkpoints\\checkpoint_09\n",
      "\n",
      "Epoch 00009: val_loss improved from 1.21240 to 1.16853, saving model to model_EuroSAT_checkpoint_best\\checkpoint\n",
      "Epoch 10/50\n",
      "125/125 [==============================] - 15s 118ms/step - loss: 1.0523 - accuracy: 0.6068 - val_loss: 1.1033 - val_accuracy: 0.5580\n",
      "\n",
      "Epoch 00010: saving model to model_EuroSAT_checkpoints\\checkpoint_10\n",
      "\n",
      "Epoch 00010: val_loss improved from 1.16853 to 1.10333, saving model to model_EuroSAT_checkpoint_best\\checkpoint\n",
      "Epoch 11/50\n",
      "125/125 [==============================] - 14s 110ms/step - loss: 1.0142 - accuracy: 0.6237 - val_loss: 1.1296 - val_accuracy: 0.5610\n",
      "\n",
      "Epoch 00011: saving model to model_EuroSAT_checkpoints\\checkpoint_11\n",
      "\n",
      "Epoch 00011: val_loss did not improve from 1.10333\n",
      "Epoch 12/50\n",
      "125/125 [==============================] - 14s 111ms/step - loss: 1.0103 - accuracy: 0.6235 - val_loss: 1.0800 - val_accuracy: 0.6020\n",
      "\n",
      "Epoch 00012: saving model to model_EuroSAT_checkpoints\\checkpoint_12\n",
      "\n",
      "Epoch 00012: val_loss improved from 1.10333 to 1.08001, saving model to model_EuroSAT_checkpoint_best\\checkpoint\n",
      "Epoch 13/50\n",
      "125/125 [==============================] - 14s 112ms/step - loss: 0.9557 - accuracy: 0.6490 - val_loss: 1.0167 - val_accuracy: 0.6270\n",
      "\n",
      "Epoch 00013: saving model to model_EuroSAT_checkpoints\\checkpoint_13\n",
      "\n",
      "Epoch 00013: val_loss improved from 1.08001 to 1.01665, saving model to model_EuroSAT_checkpoint_best\\checkpoint\n",
      "Epoch 14/50\n",
      "125/125 [==============================] - 14s 113ms/step - loss: 0.9145 - accuracy: 0.6585 - val_loss: 1.0544 - val_accuracy: 0.6210\n",
      "\n",
      "Epoch 00014: saving model to model_EuroSAT_checkpoints\\checkpoint_14\n",
      "\n",
      "Epoch 00014: val_loss did not improve from 1.01665\n",
      "Epoch 15/50\n",
      "125/125 [==============================] - 14s 113ms/step - loss: 0.8946 - accuracy: 0.6662 - val_loss: 1.0064 - val_accuracy: 0.6490\n",
      "\n",
      "Epoch 00015: saving model to model_EuroSAT_checkpoints\\checkpoint_15\n",
      "\n",
      "Epoch 00015: val_loss improved from 1.01665 to 1.00644, saving model to model_EuroSAT_checkpoint_best\\checkpoint\n",
      "Epoch 16/50\n",
      "125/125 [==============================] - 14s 115ms/step - loss: 0.8698 - accuracy: 0.6848 - val_loss: 0.9500 - val_accuracy: 0.6640\n",
      "\n",
      "Epoch 00016: saving model to model_EuroSAT_checkpoints\\checkpoint_16\n",
      "\n",
      "Epoch 00016: val_loss improved from 1.00644 to 0.95002, saving model to model_EuroSAT_checkpoint_best\\checkpoint\n",
      "Epoch 17/50\n",
      "125/125 [==============================] - 14s 112ms/step - loss: 0.8684 - accuracy: 0.6833 - val_loss: 0.9632 - val_accuracy: 0.6370\n",
      "\n",
      "Epoch 00017: saving model to model_EuroSAT_checkpoints\\checkpoint_17\n",
      "\n",
      "Epoch 00017: val_loss did not improve from 0.95002\n",
      "Epoch 18/50\n",
      "125/125 [==============================] - 14s 114ms/step - loss: 0.8256 - accuracy: 0.7003 - val_loss: 0.9701 - val_accuracy: 0.6750\n",
      "\n",
      "Epoch 00018: saving model to model_EuroSAT_checkpoints\\checkpoint_18\n",
      "\n",
      "Epoch 00018: val_loss did not improve from 0.95002\n",
      "Epoch 19/50\n",
      "125/125 [==============================] - 14s 116ms/step - loss: 0.8260 - accuracy: 0.6957 - val_loss: 0.9273 - val_accuracy: 0.6800\n",
      "\n",
      "Epoch 00019: saving model to model_EuroSAT_checkpoints\\checkpoint_19\n",
      "\n",
      "Epoch 00019: val_loss improved from 0.95002 to 0.92731, saving model to model_EuroSAT_checkpoint_best\\checkpoint\n",
      "Epoch 20/50\n",
      "125/125 [==============================] - 14s 115ms/step - loss: 0.8067 - accuracy: 0.7042 - val_loss: 1.0207 - val_accuracy: 0.6320\n",
      "\n",
      "Epoch 00020: saving model to model_EuroSAT_checkpoints\\checkpoint_20\n",
      "\n",
      "Epoch 00020: val_loss did not improve from 0.92731\n",
      "Epoch 21/50\n",
      "125/125 [==============================] - 14s 115ms/step - loss: 0.7813 - accuracy: 0.7140 - val_loss: 0.9114 - val_accuracy: 0.6580\n",
      "\n",
      "Epoch 00021: saving model to model_EuroSAT_checkpoints\\checkpoint_21\n",
      "\n",
      "Epoch 00021: val_loss improved from 0.92731 to 0.91138, saving model to model_EuroSAT_checkpoint_best\\checkpoint\n",
      "Epoch 22/50\n",
      "125/125 [==============================] - 14s 113ms/step - loss: 0.7720 - accuracy: 0.7172 - val_loss: 0.9022 - val_accuracy: 0.6780\n",
      "\n",
      "Epoch 00022: saving model to model_EuroSAT_checkpoints\\checkpoint_22\n",
      "\n",
      "Epoch 00022: val_loss improved from 0.91138 to 0.90216, saving model to model_EuroSAT_checkpoint_best\\checkpoint\n",
      "Epoch 00022: early stopping\n"
     ]
    },
    {
     "data": {
      "text/plain": [
       "<keras.callbacks.History at 0x1c26536d970>"
      ]
     },
     "execution_count": 6,
     "metadata": {},
     "output_type": "execute_result"
    }
   ],
   "source": [
    "#train model using callbacks\n",
    "callbacks = [checkpoint_every_epoch, checkpoint_best_only, early_stopping]\n",
    "model.fit(x_train, y_train, epochs = 50, validation_data = (x_test, y_test), callbacks = callbacks)"
   ]
  },
  {
   "cell_type": "code",
   "execution_count": 7,
   "metadata": {},
   "outputs": [],
   "source": [
    "#create new nstance of model and load both sets of weights\n",
    "def get_model_last_epoch(model):\n",
    "    \"\"\"\n",
    "    Creates a new instance of the previously created and loads on the weights from te last training epoch, and return the model\n",
    "    \"\"\"\n",
    "    latest = tf.train.latest_checkpoint('model_EuroSAT_checkpoints')\n",
    "    model.load_weights(latest)\n",
    "    return model\n",
    "\n",
    "def get_model_best_epoch(model):\n",
    "    \"\"\"\n",
    "    Creates a new insance of the previously created CNN and loads on the weights leading to the highest validation accuracy, \n",
    "    and return the model\n",
    "    \"\"\"\n",
    "    model.load_weights('model_EuroSAT_checkpoint_best/checkpoint')\n",
    "    return model"
   ]
  },
  {
   "cell_type": "code",
   "execution_count": 8,
   "metadata": {
    "scrolled": true
   },
   "outputs": [
    {
     "name": "stdout",
     "output_type": "stream",
     "text": [
      "Model with last epoch weights:\n",
      "accuracy: 0.678\n",
      "\n",
      "accuracy: 0.678\n"
     ]
    }
   ],
   "source": [
    "model_last_epoch = get_model_last_epoch(get_new_model(x_train[0].shape))\n",
    "model_best_epoch = get_model_best_epoch(get_new_model(x_train[0].shape))\n",
    "print('Model with last epoch weights:')\n",
    "get_test_accuracy(model_last_epoch, x_test, y_test)\n",
    "print('')\n",
    "get_test_accuracy(model_best_epoch, x_test, y_test)"
   ]
  }
 ],
 "metadata": {
  "kernelspec": {
   "display_name": "Python 3",
   "language": "python",
   "name": "python3"
  },
  "language_info": {
   "codemirror_mode": {
    "name": "ipython",
    "version": 3
   },
   "file_extension": ".py",
   "mimetype": "text/x-python",
   "name": "python",
   "nbconvert_exporter": "python",
   "pygments_lexer": "ipython3",
   "version": "3.8.5"
  }
 },
 "nbformat": 4,
 "nbformat_minor": 4
}
